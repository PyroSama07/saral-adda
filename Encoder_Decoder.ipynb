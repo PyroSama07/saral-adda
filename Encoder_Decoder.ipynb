{
 "cells": [
  {
   "cell_type": "code",
   "execution_count": 1,
   "id": "b77217d1",
   "metadata": {},
   "outputs": [],
   "source": [
    "def is_valid(lat,long):\n",
    "    if lat<38 and lat>=8 and long<98 and long>=68:\n",
    "        return True\n",
    "    else:\n",
    "        return False"
   ]
  },
  {
   "cell_type": "code",
   "execution_count": null,
   "id": "033841ad",
   "metadata": {},
   "outputs": [],
   "source": [
    "def is_valid_text(encoded):\n",
    "    encoded=encoded.replace(' ','').split('+')\n",
    "    word=encoded[0]+encoded[1]\n",
    "    "
   ]
  },
  {
   "cell_type": "code",
   "execution_count": 2,
   "id": "a689334e",
   "metadata": {},
   "outputs": [],
   "source": [
    "def index(element):\n",
    "    if element in '23456789CFGHJMPQRVWX':\n",
    "        index = '23456789CFGHJMPQRVWX'.index(element)\n",
    "        return (index)  \n",
    "    else:\n",
    "        return False"
   ]
  },
  {
   "cell_type": "code",
   "execution_count": 3,
   "id": "15185316",
   "metadata": {},
   "outputs": [],
   "source": [
    "def to_base20(decimal_num):\n",
    "    # Define the custom set of characters\n",
    "    custom_chars = '23456789CFGHJMPQRVWX'\n",
    "    base20_num = ''\n",
    "    if decimal_num==0:\n",
    "        return '22'\n",
    "    while decimal_num > 0:\n",
    "        remainder = decimal_num % 20\n",
    "        base20_num = custom_chars[remainder] + str(base20_num)\n",
    "        decimal_num //= 20\n",
    "    if len(base20_num)==1:\n",
    "        return '2'+base20_num\n",
    "    return base20_num"
   ]
  },
  {
   "cell_type": "code",
   "execution_count": 4,
   "id": "b577ed48",
   "metadata": {},
   "outputs": [],
   "source": [
    "def to_base10(base20_num):\n",
    "    custom_chars = '23456789CFGHJMPQRVWX'\n",
    "    reversed_base20_num = base20_num[::-1]\n",
    "    decimal_num = 0\n",
    "    for i in range(len(reversed_base20_num)):\n",
    "        digit = custom_chars.index(reversed_base20_num[i])\n",
    "        decimal_num += digit * (20 ** i)\n",
    "    return decimal_num"
   ]
  },
  {
   "cell_type": "code",
   "execution_count": 5,
   "id": "14216c1b",
   "metadata": {},
   "outputs": [],
   "source": [
    "lat = 30.562477\n",
    "long = 76.896965\n",
    "restrict_loc=[]"
   ]
  },
  {
   "cell_type": "code",
   "execution_count": 9,
   "id": "b5c220cf",
   "metadata": {},
   "outputs": [],
   "source": [
    "def encoder(lat,long,restrict_loc,floor=0,):\n",
    "    if is_valid(lat,long):\n",
    "        lat-=8\n",
    "        long-=68\n",
    "        encoder = '23456789CFGHJMPQRVWX'\n",
    "        row1=int((lat)/2)\n",
    "        col1=int((long)/2)\n",
    "        row2=int(lat%2*(10))\n",
    "        col2=int(long%2*(10))\n",
    "        if (encoder[row1]+encoder[col1]+encoder[row2]+encoder[col2]) in restrict_loc:\n",
    "            return False\n",
    "        row3=int(((lat%2)%0.1)*(200))\n",
    "        col3=int(((long%2)%0.1)*(200))\n",
    "        row4=int((((lat%2)%0.1)%0.005)*(4000))\n",
    "        col4=int((((long%2)%0.1))%0.005*(4000))\n",
    "        row5=int((((((lat%2)%0.1))%0.005)%(0.00025))*16000)\n",
    "        col5=int((((((long%2)%0.1))%0.005)%(0.00025))*20000)\n",
    "        ele10=5*(row5)+col5\n",
    "        ele_floor=to_base20(floor)\n",
    "        return str(encoder[row1]+encoder[col1]+encoder[row2]+\n",
    "                   encoder[col2]+' '+encoder[row3]+encoder[col3]+\n",
    "                   encoder[row4]+encoder[col4]+' + '+encoder[ele10]+ele_floor)"
   ]
  },
  {
   "cell_type": "code",
   "execution_count": 10,
   "id": "07642334",
   "metadata": {},
   "outputs": [],
   "source": [
    "def decoder(encoded_word):\n",
    "    dec=encoded_word.replace(' ','').split('+') \n",
    "    gridnumber=index(dec[1][0])\n",
    "    latitude=index(dec[0][0])*2+8+index(dec[0][2])/10+index(dec[0][4])/200+index(dec[0][6])/4000+((gridnumber//5)/16000)\n",
    "    longitude=index(dec[0][1])*2+68+index(dec[0][3])/10+(index(dec[0][5])/200)+(index(dec[0][7])/4000)+((gridnumber%5)/20000)    \n",
    "    floor=to_base10(dec[1][1:])\n",
    "    return(latitude,longitude,floor)"
   ]
  },
  {
   "cell_type": "code",
   "execution_count": 18,
   "id": "d1667ecf",
   "metadata": {},
   "outputs": [],
   "source": [
    "a=encoder(lat,long,restrict_loc)"
   ]
  },
  {
   "cell_type": "code",
   "execution_count": 19,
   "id": "27618a88",
   "metadata": {},
   "outputs": [
    {
     "data": {
      "text/plain": [
       "'H67CJXF9X22'"
      ]
     },
     "execution_count": 19,
     "metadata": {},
     "output_type": "execute_result"
    }
   ],
   "source": [
    "dec=a.replace(' ','').split('+')\n",
    "dec[0]+dec[1]"
   ]
  },
  {
   "cell_type": "code",
   "execution_count": null,
   "id": "bf1ff180",
   "metadata": {},
   "outputs": [],
   "source": []
  }
 ],
 "metadata": {
  "kernelspec": {
   "display_name": "Python 3 (ipykernel)",
   "language": "python",
   "name": "python3"
  },
  "language_info": {
   "codemirror_mode": {
    "name": "ipython",
    "version": 3
   },
   "file_extension": ".py",
   "mimetype": "text/x-python",
   "name": "python",
   "nbconvert_exporter": "python",
   "pygments_lexer": "ipython3",
   "version": "3.10.6"
  }
 },
 "nbformat": 4,
 "nbformat_minor": 5
}
